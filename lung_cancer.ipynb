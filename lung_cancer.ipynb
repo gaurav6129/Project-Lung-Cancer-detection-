{
  "cells": [
    {
      "cell_type": "markdown",
      "metadata": {
        "id": "JvFddRqFekOv"
      },
      "source": [
        "# 1. IMPORT DEPENDENCES"
      ]
    },
    {
      "cell_type": "code",
      "execution_count": 1,
      "metadata": {
        "id": "jTDCdL_jekO0"
      },
      "outputs": [],
      "source": [
        "import tensorflow.keras as keras\n",
        "from tensorflow.keras.preprocessing.image import ImageDataGenerator, load_img, img_to_array\n",
        "from tensorflow.keras.models import Sequential\n",
        "from keras.utils import np_utils\n",
        "from tensorflow.keras.layers import Dense,Activation, Flatten, Dropout, BatchNormalization, Conv2D, MaxPooling2D\n",
        "from tensorflow.keras.callbacks import ModelCheckpoint, EarlyStopping\n",
        "from tensorflow.keras import regularizers, optimizers\n",
        "import tensorflow as tf\n",
        "from tensorflow.keras.applications import ResNet50,VGG16,ResNet101, VGG19, DenseNet201, EfficientNetB4, MobileNetV2\n",
        "from tensorflow.keras.applications import resnet, vgg16 , vgg19, densenet, efficientnet, mobilenet_v2\n",
        "from tensorflow.keras import Model\n",
        "from tensorflow.keras.optimizers.legacy import Adam\n",
        "import numpy as np\n",
        "import matplotlib.pyplot as plt\n",
        "import pandas as pd\n",
        "import PIL\n",
        "import os\n",
        "import cv2\n",
        "\n"
      ]
    },
    {
      "cell_type": "code",
      "execution_count": 2,
      "metadata": {
        "colab": {
          "base_uri": "https://localhost:8080/",
          "height": 36
        },
        "id": "CfV9WwyIekO1",
        "outputId": "83fc1f3d-d5f1-47e4-ddfe-7e98e23fc0b5"
      },
      "outputs": [
        {
          "data": {
            "text/plain": [
              "'2.12.0'"
            ]
          },
          "execution_count": 2,
          "metadata": {},
          "output_type": "execute_result"
        }
      ],
      "source": [
        "tf.__version__"
      ]
    },
    {
      "cell_type": "markdown",
      "metadata": {
        "id": "sRs13mJEekO2"
      },
      "source": []
    },
    {
      "cell_type": "code",
      "execution_count": 3,
      "metadata": {
        "colab": {
          "base_uri": "https://localhost:8080/"
        },
        "id": "7-R72PfJ9qA4",
        "outputId": "db54c14b-8e44-4523-8935-fc4d09453493"
      },
      "outputs": [
        {
          "name": "stderr",
          "output_type": "stream",
          "text": [
            "'rm' is not recognized as an internal or external command,\n",
            "operable program or batch file.\n",
            "The syntax of the command is incorrect.\n",
            "'mv' is not recognized as an internal or external command,\n",
            "operable program or batch file.\n",
            "'chmod' is not recognized as an internal or external command,\n",
            "operable program or batch file.\n"
          ]
        }
      ],
      "source": [
        "!rm -r ~/.kaggle\n",
        "!mkdir ~/.kaggle\n",
        "!mv ./kaggle.json ~/.kaggle/\n",
        "!chmod 600 ~/.kaggle/kaggle.json\n"
      ]
    },
    {
      "cell_type": "code",
      "execution_count": 4,
      "metadata": {
        "colab": {
          "base_uri": "https://localhost:8080/"
        },
        "id": "o8bKr4TQMBDY",
        "outputId": "ba40095b-2e4f-4feb-db17-9709264c5166"
      },
      "outputs": [
        {
          "ename": "ModuleNotFoundError",
          "evalue": "No module named 'google.colab'",
          "output_type": "error",
          "traceback": [
            "\u001b[1;31m---------------------------------------------------------------------------\u001b[0m",
            "\u001b[1;31mModuleNotFoundError\u001b[0m                       Traceback (most recent call last)",
            "Cell \u001b[1;32mIn[4], line 1\u001b[0m\n\u001b[1;32m----> 1\u001b[0m \u001b[39mfrom\u001b[39;00m \u001b[39mgoogle\u001b[39;00m\u001b[39m.\u001b[39;00m\u001b[39mcolab\u001b[39;00m \u001b[39mimport\u001b[39;00m drive\n\u001b[0;32m      2\u001b[0m drive\u001b[39m.\u001b[39mmount(\u001b[39m'\u001b[39m\u001b[39m/content/drive\u001b[39m\u001b[39m'\u001b[39m)\n",
            "\u001b[1;31mModuleNotFoundError\u001b[0m: No module named 'google.colab'"
          ]
        }
      ],
      "source": [
        "from google.colab import drive\n",
        "drive.mount('/content/drive')"
      ]
    },
    {
      "cell_type": "code",
      "execution_count": null,
      "metadata": {
        "colab": {
          "base_uri": "https://localhost:8080/"
        },
        "id": "OF2q6sb8EGYo",
        "outputId": "90d0b20f-c2b3-4e3b-b3f3-439bb8d2c563"
      },
      "outputs": [
        {
          "name": "stderr",
          "output_type": "stream",
          "text": [
            "'unzip' is not recognized as an internal or external command,\n",
            "operable program or batch file.\n"
          ]
        }
      ],
      "source": [
        "!unzip /content/drive/MyDrive/archive.zip -d Data"
      ]
    },
    {
      "cell_type": "code",
      "execution_count": null,
      "metadata": {
        "colab": {
          "base_uri": "https://localhost:8080/"
        },
        "id": "v-MWOtPhekO3",
        "outputId": "dee4b4c6-d4bb-4cbb-8088-69280d9c57f1"
      },
      "outputs": [
        {
          "name": "stdout",
          "output_type": "stream",
          "text": [
            "/content/Data/Data/train/large.cell.carcinoma_left.hilum_T2_N2_M0_IIIa\n",
            "/content/Data/Data/train/adenocarcinoma_left.lower.lobe_T2_N0_M0_Ib\n",
            "/content/Data/Data/train/normal\n",
            "/content/Data/Data/train/squamous.cell.carcinoma_left.hilum_T1_N2_M0_IIIa\n"
          ]
        }
      ],
      "source": [
        "path = \"/content/Data/Data/train\"\n",
        "for files in os.listdir(path):\n",
        "    print(os.path.join(path,files))"
      ]
    },
    {
      "cell_type": "code",
      "execution_count": null,
      "metadata": {
        "id": "WBvtgICqekO3",
        "scrolled": true
      },
      "outputs": [],
      "source": [
        "train_path = \"/content/Data/Data/train\"\n",
        "valid_path = \"/content/Data/Data/valid\"\n",
        "test_path = \"/content/Data/Data/test\""
      ]
    },
    {
      "cell_type": "code",
      "execution_count": null,
      "metadata": {
        "id": "PBvULkxvekO4"
      },
      "outputs": [],
      "source": [
        "image_paths = ['/content/Data/Data/train/squamous.cell.carcinoma_left.hilum_T1_N2_M0_IIIa',\n",
        "'/content/Data/Data/train/normal',\n",
        "'/content/Data/Data/train/large.cell.carcinoma_left.hilum_T2_N2_M0_IIIa',\n",
        "'/content/Data/Data/train/adenocarcinoma_left.lower.lobe_T2_N0_M0_Ib']\n",
        "\n",
        "def load_images(image_paths = image_paths, n=36):\n",
        "    # Load the images from disk.\n",
        "    images = []\n",
        "    for i in range(len(image_paths)):\n",
        "        images_ = [cv2.imread(image_paths[i]+'/'+path) for path in os.listdir(image_paths[i])[:int(n/4)]]\n",
        "        images.append(images_)\n",
        "    # Convert to a numpy array and return it.\n",
        "    sample = np.asarray(images)\n",
        "    return sample\n"
      ]
    },
    {
      "cell_type": "code",
      "execution_count": null,
      "metadata": {
        "colab": {
          "base_uri": "https://localhost:8080/",
          "height": 369
        },
        "id": "lqrK89NVekO4",
        "outputId": "94a4b1bf-0bb8-43b5-edb6-ff2aea1546fd"
      },
      "outputs": [
        {
          "ename": "NameError",
          "evalue": "name 'load_images' is not defined",
          "output_type": "error",
          "traceback": [
            "\u001b[1;31m---------------------------------------------------------------------------\u001b[0m",
            "\u001b[1;31mNameError\u001b[0m                                 Traceback (most recent call last)",
            "Cell \u001b[1;32mIn[6], line 1\u001b[0m\n\u001b[1;32m----> 1\u001b[0m sample \u001b[39m=\u001b[39m load_images()\n\u001b[0;32m      2\u001b[0m fig \u001b[39m=\u001b[39m plt\u001b[39m.\u001b[39mfigure(figsize\u001b[39m=\u001b[39m(\u001b[39m20\u001b[39m,\u001b[39m5\u001b[39m))\n\u001b[0;32m      3\u001b[0m l \u001b[39m=\u001b[39m \u001b[39m1\u001b[39m\n",
            "\u001b[1;31mNameError\u001b[0m: name 'load_images' is not defined"
          ]
        }
      ],
      "source": [
        "sample = load_images()\n",
        "fig = plt.figure(figsize=(20,5))\n",
        "l = 1\n",
        "shapes = []\n",
        "for i in range(sample.shape[0]):\n",
        "    for m in range(sample.shape[1]):\n",
        "        ax = fig.add_subplot(4,9,m+l,xticks = [], yticks = [])\n",
        "        ax.imshow(np.squeeze(sample[i,m]))\n",
        "        shapes.append(sample[i,m].shape)\n",
        "    l +=9"
      ]
    },
    {
      "cell_type": "code",
      "execution_count": null,
      "metadata": {
        "colab": {
          "base_uri": "https://localhost:8080/"
        },
        "id": "x7hBKDpmekO5",
        "outputId": "9e757af6-cdca-4307-a091-b819b5710ed5"
      },
      "outputs": [
        {
          "data": {
            "text/plain": [
              "array([300.27777778, 468.44444444,   3.        ])"
            ]
          },
          "execution_count": 10,
          "metadata": {},
          "output_type": "execute_result"
        }
      ],
      "source": [
        "np.array(shapes).mean(axis=0)\n"
      ]
    },
    {
      "cell_type": "code",
      "execution_count": null,
      "metadata": {
        "colab": {
          "base_uri": "https://localhost:8080/"
        },
        "id": "raXPpwn0ekO6",
        "outputId": "41f0784a-5cdc-46aa-bfe0-1c6a7fcbaa83"
      },
      "outputs": [
        {
          "name": "stdout",
          "output_type": "stream",
          "text": [
            "Found 613 images belonging to 4 classes.\n",
            "Found 72 images belonging to 4 classes.\n",
            "Found 315 images belonging to 4 classes.\n"
          ]
        }
      ],
      "source": [
        "image_shape = (305,430,3)\n",
        "N_CLASSES = 4\n",
        "BATCH_SIZE = 32\n",
        "\n",
        "train_datagen = ImageDataGenerator(dtype='float32', rescale= 1./255.)\n",
        "train_generator = train_datagen.flow_from_directory(train_path,\n",
        "                                                   batch_size = BATCH_SIZE,\n",
        "                                                   target_size = (305,430),\n",
        "                                                   class_mode = 'categorical')\n",
        "\n",
        "valid_datagen = ImageDataGenerator(dtype='float32', rescale= 1./255.)\n",
        "valid_generator = valid_datagen.flow_from_directory(valid_path,\n",
        "                                                   batch_size = BATCH_SIZE,\n",
        "                                                   target_size = (305,430),\n",
        "                                                   class_mode = 'categorical')\n",
        "\n",
        "test_datagen = ImageDataGenerator(dtype='float32', rescale = 1.0/255.0)\n",
        "test_generator = test_datagen.flow_from_directory(test_path,\n",
        "                                                   batch_size = BATCH_SIZE,\n",
        "                                                   target_size = (305,430),\n",
        "                                                   class_mode = 'categorical')"
      ]
    },
    {
      "cell_type": "code",
      "execution_count": null,
      "metadata": {
        "colab": {
          "base_uri": "https://localhost:8080/"
        },
        "id": "2Ns5hr7wekO6",
        "outputId": "19fd61db-849e-471c-d033-8dd754fe0137"
      },
      "outputs": [
        {
          "name": "stdout",
          "output_type": "stream",
          "text": [
            "Model: \"sequential\"\n",
            "_________________________________________________________________\n",
            " Layer (type)                Output Shape              Param #   \n",
            "=================================================================\n",
            " conv2d (Conv2D)             (None, 305, 430, 8)       104       \n",
            "                                                                 \n",
            " max_pooling2d (MaxPooling2D  (None, 152, 215, 8)      0         \n",
            " )                                                               \n",
            "                                                                 \n",
            " conv2d_1 (Conv2D)           (None, 152, 215, 16)      528       \n",
            "                                                                 \n",
            " max_pooling2d_1 (MaxPooling  (None, 76, 107, 16)      0         \n",
            " 2D)                                                             \n",
            "                                                                 \n",
            " dropout (Dropout)           (None, 76, 107, 16)       0         \n",
            "                                                                 \n",
            " flatten (Flatten)           (None, 130112)            0         \n",
            "                                                                 \n",
            " dense (Dense)               (None, 300)               39033900  \n",
            "                                                                 \n",
            " dropout_1 (Dropout)         (None, 300)               0         \n",
            "                                                                 \n",
            " dense_1 (Dense)             (None, 4)                 1204      \n",
            "                                                                 \n",
            "=================================================================\n",
            "Total params: 39,035,736\n",
            "Trainable params: 39,035,736\n",
            "Non-trainable params: 0\n",
            "_________________________________________________________________\n"
          ]
        }
      ],
      "source": [
        "base_hidden_units = 8\n",
        "weight_decay = 1e-3\n",
        "model = Sequential([\n",
        "\n",
        "    Conv2D(filters = 8 , kernel_size = 2, padding = 'same', activation = 'relu', input_shape = image_shape),\n",
        "    MaxPooling2D(pool_size = 2),\n",
        "    \n",
        "    Conv2D(filters = 16 , kernel_size = 2, padding = 'same', activation = 'relu',\n",
        "           kernel_regularizer = regularizers.l2(weight_decay)),\n",
        "    MaxPooling2D(pool_size = 2),\n",
        "    \n",
        "    \n",
        "    Dropout(0.4),\n",
        "    Flatten(),\n",
        "    Dense(300,activation='relu'),\n",
        "    Dropout(0.5),\n",
        "    Dense(4,activation='softmax')\n",
        "    \n",
        "])\n",
        "\n",
        "model.summary()"
      ]
    },
    {
      "cell_type": "code",
      "execution_count": null,
      "metadata": {
        "colab": {
          "base_uri": "https://localhost:8080/"
        },
        "id": "8DUY6tVtekO7",
        "outputId": "14457598-078d-4408-c416-2d869c183ae7"
      },
      "outputs": [
        {
          "name": "stderr",
          "output_type": "stream",
          "text": [
            "/usr/local/lib/python3.9/dist-packages/keras/optimizers/legacy/adam.py:117: UserWarning: The `lr` argument is deprecated, use `learning_rate` instead.\n",
            "  super().__init__(name, **kwargs)\n"
          ]
        },
        {
          "name": "stdout",
          "output_type": "stream",
          "text": [
            "Epoch 1/100\n",
            "20/20 [==============================] - ETA: 0s - loss: 4.7365 - acc: 0.3719\n",
            "Epoch 1: val_loss improved from inf to 1.19796, saving model to chestmodel.hdf5\n",
            "20/20 [==============================] - 18s 436ms/step - loss: 4.7365 - acc: 0.3719 - val_loss: 1.1980 - val_acc: 0.4861\n",
            "Epoch 2/100\n",
            "20/20 [==============================] - ETA: 0s - loss: 1.0326 - acc: 0.5644\n",
            "Epoch 2: val_loss improved from 1.19796 to 0.89381, saving model to chestmodel.hdf5\n",
            "20/20 [==============================] - 8s 389ms/step - loss: 1.0326 - acc: 0.5644 - val_loss: 0.8938 - val_acc: 0.5278\n",
            "Epoch 3/100\n",
            "20/20 [==============================] - ETA: 0s - loss: 0.6938 - acc: 0.7553\n",
            "Epoch 3: val_loss improved from 0.89381 to 0.82468, saving model to chestmodel.hdf5\n",
            "20/20 [==============================] - 7s 338ms/step - loss: 0.6938 - acc: 0.7553 - val_loss: 0.8247 - val_acc: 0.5556\n",
            "Epoch 4/100\n",
            "20/20 [==============================] - ETA: 0s - loss: 0.4552 - acc: 0.8352\n",
            "Epoch 4: val_loss improved from 0.82468 to 0.81689, saving model to chestmodel.hdf5\n",
            "20/20 [==============================] - 8s 385ms/step - loss: 0.4552 - acc: 0.8352 - val_loss: 0.8169 - val_acc: 0.5833\n",
            "Epoch 5/100\n",
            "20/20 [==============================] - ETA: 0s - loss: 0.2860 - acc: 0.9054\n",
            "Epoch 5: val_loss improved from 0.81689 to 0.69750, saving model to chestmodel.hdf5\n",
            "20/20 [==============================] - 7s 335ms/step - loss: 0.2860 - acc: 0.9054 - val_loss: 0.6975 - val_acc: 0.6944\n",
            "Epoch 6/100\n",
            "20/20 [==============================] - ETA: 0s - loss: 0.1779 - acc: 0.9527\n",
            "Epoch 6: val_loss did not improve from 0.69750\n",
            "20/20 [==============================] - 5s 252ms/step - loss: 0.1779 - acc: 0.9527 - val_loss: 0.7120 - val_acc: 0.6944\n",
            "Epoch 7/100\n",
            "20/20 [==============================] - ETA: 0s - loss: 0.1166 - acc: 0.9755\n",
            "Epoch 7: val_loss improved from 0.69750 to 0.67049, saving model to chestmodel.hdf5\n",
            "20/20 [==============================] - 7s 364ms/step - loss: 0.1166 - acc: 0.9755 - val_loss: 0.6705 - val_acc: 0.6667\n",
            "Epoch 8/100\n",
            "20/20 [==============================] - ETA: 0s - loss: 0.1180 - acc: 0.9821\n",
            "Epoch 8: val_loss improved from 0.67049 to 0.59089, saving model to chestmodel.hdf5\n",
            "20/20 [==============================] - 8s 399ms/step - loss: 0.1180 - acc: 0.9821 - val_loss: 0.5909 - val_acc: 0.7778\n",
            "Epoch 9/100\n",
            "20/20 [==============================] - ETA: 0s - loss: 0.1146 - acc: 0.9886\n",
            "Epoch 9: val_loss did not improve from 0.59089\n",
            "20/20 [==============================] - 5s 251ms/step - loss: 0.1146 - acc: 0.9886 - val_loss: 0.6477 - val_acc: 0.7500\n",
            "Epoch 10/100\n",
            "20/20 [==============================] - ETA: 0s - loss: 0.0519 - acc: 0.9935\n",
            "Epoch 10: val_loss did not improve from 0.59089\n",
            "20/20 [==============================] - 5s 257ms/step - loss: 0.0519 - acc: 0.9935 - val_loss: 0.7306 - val_acc: 0.7083\n",
            "Epoch 11/100\n",
            "20/20 [==============================] - ETA: 0s - loss: 0.0538 - acc: 0.9967\n",
            "Epoch 11: val_loss did not improve from 0.59089\n",
            "20/20 [==============================] - 5s 245ms/step - loss: 0.0538 - acc: 0.9967 - val_loss: 0.6454 - val_acc: 0.7500\n",
            "Epoch 12/100\n",
            "20/20 [==============================] - ETA: 0s - loss: 0.0518 - acc: 0.9951\n",
            "Epoch 12: val_loss did not improve from 0.59089\n",
            "20/20 [==============================] - 6s 303ms/step - loss: 0.0518 - acc: 0.9951 - val_loss: 0.6182 - val_acc: 0.7778\n",
            "Epoch 13/100\n",
            "20/20 [==============================] - ETA: 0s - loss: 0.0483 - acc: 0.9967\n",
            "Epoch 13: val_loss did not improve from 0.59089\n",
            "20/20 [==============================] - 5s 247ms/step - loss: 0.0483 - acc: 0.9967 - val_loss: 0.6190 - val_acc: 0.7361\n",
            "Epoch 14/100\n",
            "20/20 [==============================] - ETA: 0s - loss: 0.0230 - acc: 1.0000\n",
            "Epoch 14: val_loss did not improve from 0.59089\n",
            "20/20 [==============================] - 5s 261ms/step - loss: 0.0230 - acc: 1.0000 - val_loss: 0.7175 - val_acc: 0.7083\n",
            "Epoch 15/100\n",
            "20/20 [==============================] - ETA: 0s - loss: 0.0308 - acc: 0.9984\n",
            "Epoch 15: val_loss did not improve from 0.59089\n",
            "20/20 [==============================] - 7s 370ms/step - loss: 0.0308 - acc: 0.9984 - val_loss: 0.6265 - val_acc: 0.7778\n",
            "Epoch 16/100\n",
            "20/20 [==============================] - ETA: 0s - loss: 0.0280 - acc: 0.9951\n",
            "Epoch 16: val_loss did not improve from 0.59089\n",
            "20/20 [==============================] - 6s 294ms/step - loss: 0.0280 - acc: 0.9951 - val_loss: 0.6314 - val_acc: 0.7778\n",
            "Epoch 17/100\n",
            "20/20 [==============================] - ETA: 0s - loss: 0.0256 - acc: 0.9967\n",
            "Epoch 17: val_loss did not improve from 0.59089\n",
            "20/20 [==============================] - 5s 252ms/step - loss: 0.0256 - acc: 0.9967 - val_loss: 0.6790 - val_acc: 0.7500\n",
            "Epoch 18/100\n",
            "20/20 [==============================] - ETA: 0s - loss: 0.0314 - acc: 0.9984\n",
            "Epoch 18: val_loss did not improve from 0.59089\n",
            "20/20 [==============================] - 6s 315ms/step - loss: 0.0314 - acc: 0.9984 - val_loss: 0.7277 - val_acc: 0.7500\n",
            "Epoch 19/100\n",
            "19/20 [===========================>..] - ETA: 0s - loss: 0.0154 - acc: 1.0000\n",
            "Epoch 19: val_loss did not improve from 0.59089\n",
            "20/20 [==============================] - 5s 249ms/step - loss: 0.0155 - acc: 1.0000 - val_loss: 0.6700 - val_acc: 0.7500\n",
            "Epoch 20/100\n",
            "20/20 [==============================] - ETA: 0s - loss: 0.0279 - acc: 0.9984\n",
            "Epoch 20: val_loss did not improve from 0.59089\n",
            "20/20 [==============================] - 5s 254ms/step - loss: 0.0279 - acc: 0.9984 - val_loss: 0.8650 - val_acc: 0.6944\n",
            "Epoch 21/100\n",
            "20/20 [==============================] - ETA: 0s - loss: 0.0156 - acc: 0.9984\n",
            "Epoch 21: val_loss did not improve from 0.59089\n",
            "20/20 [==============================] - 5s 250ms/step - loss: 0.0156 - acc: 0.9984 - val_loss: 0.6891 - val_acc: 0.7639\n",
            "Epoch 22/100\n",
            "20/20 [==============================] - ETA: 0s - loss: 0.0177 - acc: 0.9984\n",
            "Epoch 22: val_loss did not improve from 0.59089\n",
            "20/20 [==============================] - 6s 311ms/step - loss: 0.0177 - acc: 0.9984 - val_loss: 0.6801 - val_acc: 0.7639\n",
            "Epoch 23/100\n",
            "20/20 [==============================] - ETA: 0s - loss: 0.0236 - acc: 0.9967\n",
            "Epoch 23: val_loss did not improve from 0.59089\n",
            "20/20 [==============================] - 5s 251ms/step - loss: 0.0236 - acc: 0.9967 - val_loss: 0.7270 - val_acc: 0.7639\n"
          ]
        }
      ],
      "source": [
        "checkpointer = ModelCheckpoint('chestmodel.hdf5',verbose=1, save_best_only= True)\n",
        "early_stopping = EarlyStopping(monitor= 'val_loss', patience= 15)\n",
        "optimizer = Adam(lr=0.001, decay=1e-6)\n",
        "\n",
        "\n",
        "model.compile(loss= 'categorical_crossentropy', optimizer= optimizer, metrics=['acc'])\n",
        "history = model.fit(train_generator,\n",
        "                    steps_per_epoch = 20,\n",
        "                    epochs = 100,\n",
        "                    verbose = 1,\n",
        "                    validation_data = valid_generator,\n",
        "                    callbacks = [checkpointer, early_stopping])"
      ]
    },
    {
      "cell_type": "code",
      "execution_count": null,
      "metadata": {
        "colab": {
          "base_uri": "https://localhost:8080/"
        },
        "id": "zacoIlnlekO8",
        "outputId": "17225486-9cbd-481d-ab76-a772cf476048"
      },
      "outputs": [
        {
          "name": "stdout",
          "output_type": "stream",
          "text": [
            "10/10 [==============================] - 3s 256ms/step - loss: 2.1638 - acc: 0.5492\n"
          ]
        }
      ],
      "source": [
        "result = model.evaluate(test_generator)"
      ]
    },
    {
      "cell_type": "code",
      "execution_count": null,
      "metadata": {
        "colab": {
          "base_uri": "https://localhost:8080/",
          "height": 449
        },
        "id": "Ne1oNDmaekO8",
        "outputId": "fdb08d0f-d0e6-42ca-e6e1-4148daeb9267"
      },
      "outputs": [
        {
          "ename": "NameError",
          "evalue": "name 'history' is not defined",
          "output_type": "error",
          "traceback": [
            "\u001b[1;31m---------------------------------------------------------------------------\u001b[0m",
            "\u001b[1;31mNameError\u001b[0m                                 Traceback (most recent call last)",
            "Cell \u001b[1;32mIn[8], line 1\u001b[0m\n\u001b[1;32m----> 1\u001b[0m plt\u001b[39m.\u001b[39mplot(history\u001b[39m.\u001b[39mhistory[\u001b[39m'\u001b[39m\u001b[39macc\u001b[39m\u001b[39m'\u001b[39m], label \u001b[39m=\u001b[39m \u001b[39m'\u001b[39m\u001b[39mtrain\u001b[39m\u001b[39m'\u001b[39m,)\n\u001b[0;32m      2\u001b[0m plt\u001b[39m.\u001b[39mplot(history\u001b[39m.\u001b[39mhistory[\u001b[39m'\u001b[39m\u001b[39mval_acc\u001b[39m\u001b[39m'\u001b[39m], label \u001b[39m=\u001b[39m \u001b[39m'\u001b[39m\u001b[39mval\u001b[39m\u001b[39m'\u001b[39m)\n\u001b[0;32m      4\u001b[0m plt\u001b[39m.\u001b[39mlegend(loc \u001b[39m=\u001b[39m \u001b[39m'\u001b[39m\u001b[39mright\u001b[39m\u001b[39m'\u001b[39m)\n",
            "\u001b[1;31mNameError\u001b[0m: name 'history' is not defined"
          ]
        }
      ],
      "source": [
        "plt.plot(history.history['acc'], label = 'train',)\n",
        "plt.plot(history.history['val_acc'], label = 'val')\n",
        "\n",
        "plt.legend(loc = 'right')\n",
        "plt.xlabel('epochs')\n",
        "plt.ylabel('accuracy')\n",
        "plt.show()"
      ]
    },
    {
      "cell_type": "markdown",
      "metadata": {
        "id": "awm3pK-5ekO-"
      },
      "source": [
        "## VGG"
      ]
    },
    {
      "cell_type": "code",
      "execution_count": null,
      "metadata": {
        "colab": {
          "base_uri": "https://localhost:8080/"
        },
        "id": "jmYD5UkHekO-",
        "outputId": "04d44c1d-1b30-4c06-ac75-ee119ef4858c"
      },
      "outputs": [
        {
          "name": "stdout",
          "output_type": "stream",
          "text": [
            "Found 613 images belonging to 4 classes.\n",
            "Found 72 images belonging to 4 classes.\n",
            "Found 315 images belonging to 4 classes.\n"
          ]
        }
      ],
      "source": [
        "image_shape = (460,460,3)\n",
        "N_CLASSES = 4\n",
        "BATCH_SIZE = 32\n",
        "\n",
        "train_datagen = ImageDataGenerator(dtype='float32', rescale=1./255.)\n",
        "train_generator = train_datagen.flow_from_directory(train_path,\n",
        "                                                   batch_size = BATCH_SIZE,\n",
        "                                                   target_size = (460,460),\n",
        "                                                   class_mode = 'categorical')\n",
        "\n",
        "valid_datagen = ImageDataGenerator(dtype='float32',  rescale=1./255.)\n",
        "valid_generator = valid_datagen.flow_from_directory(valid_path,\n",
        "                                                   batch_size = BATCH_SIZE,\n",
        "                                                   target_size = (460,460),\n",
        "                                                   class_mode = 'categorical')\n",
        "\n",
        "test_datagen = ImageDataGenerator(dtype='float32',  rescale=1./255.)\n",
        "test_generator = test_datagen.flow_from_directory(test_path,\n",
        "                                                   batch_size = BATCH_SIZE,\n",
        "                                                   target_size = (460,460),\n",
        "                                                   class_mode = 'categorical')"
      ]
    },
    {
      "cell_type": "code",
      "execution_count": null,
      "metadata": {
        "colab": {
          "base_uri": "https://localhost:8080/"
        },
        "id": "7gVQC7dwekO_",
        "outputId": "626e233e-4846-447c-b5f0-1d85c9e46072"
      },
      "outputs": [
        {
          "name": "stdout",
          "output_type": "stream",
          "text": [
            "Downloading data from https://storage.googleapis.com/tensorflow/keras-applications/vgg16/vgg16_weights_tf_dim_ordering_tf_kernels_notop.h5\n",
            "58889256/58889256 [==============================] - 3s 0us/step\n"
          ]
        }
      ],
      "source": [
        "vgg_model = VGG16(include_top=False, pooling='avg', weights='imagenet', input_shape = (image_shape))\n",
        "for layer in vgg_model.layers:\n",
        "    layer.trainable = False\n"
      ]
    },
    {
      "cell_type": "code",
      "execution_count": null,
      "metadata": {
        "colab": {
          "base_uri": "https://localhost:8080/"
        },
        "id": "zBJYi6PiekO_",
        "outputId": "9f373bc4-3416-4423-9f8a-476bf53f2bd2"
      },
      "outputs": [
        {
          "name": "stdout",
          "output_type": "stream",
          "text": [
            "Model: \"sequential_1\"\n",
            "_________________________________________________________________\n",
            " Layer (type)                Output Shape              Param #   \n",
            "=================================================================\n",
            " vgg16 (Functional)          (None, 512)               14714688  \n",
            "                                                                 \n",
            " flatten_1 (Flatten)         (None, 512)               0         \n",
            "                                                                 \n",
            " batch_normalization (BatchN  (None, 512)              2048      \n",
            " ormalization)                                                   \n",
            "                                                                 \n",
            " dense_2 (Dense)             (None, 4)                 2052      \n",
            "                                                                 \n",
            "=================================================================\n",
            "Total params: 14,718,788\n",
            "Trainable params: 3,076\n",
            "Non-trainable params: 14,715,712\n",
            "_________________________________________________________________\n"
          ]
        }
      ],
      "source": [
        "model = Sequential()\n",
        "model.add(vgg_model)\n",
        "model.add(Flatten())\n",
        "model.add(BatchNormalization())\n",
        "model.add(Dense(N_CLASSES, activation='softmax'))\n",
        "model.summary()"
      ]
    },
    {
      "cell_type": "code",
      "execution_count": null,
      "metadata": {
        "id": "4Vqu4t1dekO_"
      },
      "outputs": [],
      "source": [
        "optimizer = Adam(lr=0.001, decay=1e-6)\n",
        "model.compile(optimizer=optimizer, loss = 'categorical_crossentropy', metrics = ['acc'])"
      ]
    },
    {
      "cell_type": "code",
      "execution_count": null,
      "metadata": {
        "id": "35c9F7UiekO_"
      },
      "outputs": [],
      "source": [
        "checkpointer = ModelCheckpoint(filepath='./chest_CT_SCAN-/vgg16.hdf5',\n",
        "                            monitor='val_loss', verbose = 1,\n",
        "                            save_best_only=True)\n",
        "early_stopping = EarlyStopping(verbose=1, patience=15)"
      ]
    },
    {
      "cell_type": "code",
      "execution_count": null,
      "metadata": {
        "colab": {
          "base_uri": "https://localhost:8080/"
        },
        "id": "maoSTMjKekO_",
        "outputId": "93f4293a-8250-483a-be21-e52b6bdb10ba"
      },
      "outputs": [
        {
          "name": "stdout",
          "output_type": "stream",
          "text": [
            "Epoch 1/100\n",
            "20/20 [==============================] - ETA: 0s - loss: 1.0239 - acc: 0.5449\n",
            "Epoch 1: val_loss improved from inf to 1.66919, saving model to ./chest_CT_SCAN-/vgg16.hdf5\n",
            "20/20 [==============================] - 36s 1s/step - loss: 1.0239 - acc: 0.5449 - val_loss: 1.6692 - val_acc: 0.2083\n",
            "Epoch 2/100\n",
            "20/20 [==============================] - ETA: 0s - loss: 0.8295 - acc: 0.6672\n",
            "Epoch 2: val_loss improved from 1.66919 to 1.58347, saving model to ./chest_CT_SCAN-/vgg16.hdf5\n",
            "20/20 [==============================] - 12s 613ms/step - loss: 0.8295 - acc: 0.6672 - val_loss: 1.5835 - val_acc: 0.2083\n",
            "Epoch 3/100\n",
            "20/20 [==============================] - ETA: 0s - loss: 0.7308 - acc: 0.7178\n",
            "Epoch 3: val_loss improved from 1.58347 to 1.54076, saving model to ./chest_CT_SCAN-/vgg16.hdf5\n",
            "20/20 [==============================] - 13s 622ms/step - loss: 0.7308 - acc: 0.7178 - val_loss: 1.5408 - val_acc: 0.2083\n",
            "Epoch 4/100\n",
            "20/20 [==============================] - ETA: 0s - loss: 0.6737 - acc: 0.7651\n",
            "Epoch 4: val_loss improved from 1.54076 to 1.47023, saving model to ./chest_CT_SCAN-/vgg16.hdf5\n",
            "20/20 [==============================] - 13s 622ms/step - loss: 0.6737 - acc: 0.7651 - val_loss: 1.4702 - val_acc: 0.2083\n",
            "Epoch 5/100\n",
            "20/20 [==============================] - ETA: 0s - loss: 0.6256 - acc: 0.7830\n",
            "Epoch 5: val_loss improved from 1.47023 to 1.42129, saving model to ./chest_CT_SCAN-/vgg16.hdf5\n",
            "20/20 [==============================] - 13s 636ms/step - loss: 0.6256 - acc: 0.7830 - val_loss: 1.4213 - val_acc: 0.2083\n",
            "Epoch 6/100\n",
            "20/20 [==============================] - ETA: 0s - loss: 0.5709 - acc: 0.8157\n",
            "Epoch 6: val_loss improved from 1.42129 to 1.36619, saving model to ./chest_CT_SCAN-/vgg16.hdf5\n",
            "20/20 [==============================] - 13s 646ms/step - loss: 0.5709 - acc: 0.8157 - val_loss: 1.3662 - val_acc: 0.2500\n",
            "Epoch 7/100\n",
            "20/20 [==============================] - ETA: 0s - loss: 0.5398 - acc: 0.8320\n",
            "Epoch 7: val_loss improved from 1.36619 to 1.30456, saving model to ./chest_CT_SCAN-/vgg16.hdf5\n",
            "20/20 [==============================] - 14s 694ms/step - loss: 0.5398 - acc: 0.8320 - val_loss: 1.3046 - val_acc: 0.2500\n",
            "Epoch 8/100\n",
            "20/20 [==============================] - ETA: 0s - loss: 0.5206 - acc: 0.8157\n",
            "Epoch 8: val_loss improved from 1.30456 to 1.28642, saving model to ./chest_CT_SCAN-/vgg16.hdf5\n",
            "20/20 [==============================] - 13s 659ms/step - loss: 0.5206 - acc: 0.8157 - val_loss: 1.2864 - val_acc: 0.2778\n",
            "Epoch 9/100\n",
            "20/20 [==============================] - ETA: 0s - loss: 0.4725 - acc: 0.8467\n",
            "Epoch 9: val_loss improved from 1.28642 to 1.26006, saving model to ./chest_CT_SCAN-/vgg16.hdf5\n",
            "20/20 [==============================] - 13s 661ms/step - loss: 0.4725 - acc: 0.8467 - val_loss: 1.2601 - val_acc: 0.2917\n",
            "Epoch 10/100\n",
            "20/20 [==============================] - ETA: 0s - loss: 0.4563 - acc: 0.8597\n",
            "Epoch 10: val_loss improved from 1.26006 to 1.22241, saving model to ./chest_CT_SCAN-/vgg16.hdf5\n",
            "20/20 [==============================] - 14s 673ms/step - loss: 0.4563 - acc: 0.8597 - val_loss: 1.2224 - val_acc: 0.2917\n",
            "Epoch 11/100\n",
            "20/20 [==============================] - ETA: 0s - loss: 0.4287 - acc: 0.8825\n",
            "Epoch 11: val_loss improved from 1.22241 to 1.17021, saving model to ./chest_CT_SCAN-/vgg16.hdf5\n",
            "20/20 [==============================] - 13s 663ms/step - loss: 0.4287 - acc: 0.8825 - val_loss: 1.1702 - val_acc: 0.3472\n",
            "Epoch 12/100\n",
            "20/20 [==============================] - ETA: 0s - loss: 0.4181 - acc: 0.8874\n",
            "Epoch 12: val_loss did not improve from 1.17021\n",
            "20/20 [==============================] - 14s 675ms/step - loss: 0.4181 - acc: 0.8874 - val_loss: 1.1724 - val_acc: 0.2917\n",
            "Epoch 13/100\n",
            "20/20 [==============================] - ETA: 0s - loss: 0.3967 - acc: 0.8858\n",
            "Epoch 13: val_loss improved from 1.17021 to 1.11331, saving model to ./chest_CT_SCAN-/vgg16.hdf5\n",
            "20/20 [==============================] - 14s 673ms/step - loss: 0.3967 - acc: 0.8858 - val_loss: 1.1133 - val_acc: 0.5000\n",
            "Epoch 14/100\n",
            "20/20 [==============================] - ETA: 0s - loss: 0.3758 - acc: 0.9038\n",
            "Epoch 14: val_loss improved from 1.11331 to 1.08281, saving model to ./chest_CT_SCAN-/vgg16.hdf5\n",
            "20/20 [==============================] - 14s 719ms/step - loss: 0.3758 - acc: 0.9038 - val_loss: 1.0828 - val_acc: 0.5139\n",
            "Epoch 15/100\n",
            "20/20 [==============================] - ETA: 0s - loss: 0.3570 - acc: 0.9217\n",
            "Epoch 15: val_loss improved from 1.08281 to 1.08184, saving model to ./chest_CT_SCAN-/vgg16.hdf5\n",
            "20/20 [==============================] - 14s 708ms/step - loss: 0.3570 - acc: 0.9217 - val_loss: 1.0818 - val_acc: 0.5139\n",
            "Epoch 16/100\n",
            "20/20 [==============================] - ETA: 0s - loss: 0.3528 - acc: 0.9021\n",
            "Epoch 16: val_loss improved from 1.08184 to 1.03131, saving model to ./chest_CT_SCAN-/vgg16.hdf5\n",
            "20/20 [==============================] - 14s 740ms/step - loss: 0.3528 - acc: 0.9021 - val_loss: 1.0313 - val_acc: 0.5694\n",
            "Epoch 17/100\n",
            "20/20 [==============================] - ETA: 0s - loss: 0.3302 - acc: 0.9201\n",
            "Epoch 17: val_loss improved from 1.03131 to 0.97688, saving model to ./chest_CT_SCAN-/vgg16.hdf5\n",
            "20/20 [==============================] - 14s 681ms/step - loss: 0.3302 - acc: 0.9201 - val_loss: 0.9769 - val_acc: 0.5972\n",
            "Epoch 18/100\n",
            "20/20 [==============================] - ETA: 0s - loss: 0.3109 - acc: 0.9331\n",
            "Epoch 18: val_loss improved from 0.97688 to 0.93023, saving model to ./chest_CT_SCAN-/vgg16.hdf5\n",
            "20/20 [==============================] - 14s 718ms/step - loss: 0.3109 - acc: 0.9331 - val_loss: 0.9302 - val_acc: 0.6667\n",
            "Epoch 19/100\n",
            "20/20 [==============================] - ETA: 0s - loss: 0.3231 - acc: 0.9103\n",
            "Epoch 19: val_loss improved from 0.93023 to 0.87230, saving model to ./chest_CT_SCAN-/vgg16.hdf5\n",
            "20/20 [==============================] - 14s 689ms/step - loss: 0.3231 - acc: 0.9103 - val_loss: 0.8723 - val_acc: 0.6667\n",
            "Epoch 20/100\n",
            "20/20 [==============================] - ETA: 0s - loss: 0.3037 - acc: 0.9299\n",
            "Epoch 20: val_loss improved from 0.87230 to 0.86469, saving model to ./chest_CT_SCAN-/vgg16.hdf5\n",
            "20/20 [==============================] - 15s 729ms/step - loss: 0.3037 - acc: 0.9299 - val_loss: 0.8647 - val_acc: 0.7222\n",
            "Epoch 21/100\n",
            "20/20 [==============================] - ETA: 0s - loss: 0.2836 - acc: 0.9413\n",
            "Epoch 21: val_loss improved from 0.86469 to 0.81455, saving model to ./chest_CT_SCAN-/vgg16.hdf5\n",
            "20/20 [==============================] - 14s 700ms/step - loss: 0.2836 - acc: 0.9413 - val_loss: 0.8146 - val_acc: 0.7361\n",
            "Epoch 22/100\n",
            "20/20 [==============================] - ETA: 0s - loss: 0.2665 - acc: 0.9462\n",
            "Epoch 22: val_loss improved from 0.81455 to 0.80435, saving model to ./chest_CT_SCAN-/vgg16.hdf5\n",
            "20/20 [==============================] - 14s 685ms/step - loss: 0.2665 - acc: 0.9462 - val_loss: 0.8043 - val_acc: 0.7639\n",
            "Epoch 23/100\n",
            "20/20 [==============================] - ETA: 0s - loss: 0.2650 - acc: 0.9364\n",
            "Epoch 23: val_loss improved from 0.80435 to 0.78655, saving model to ./chest_CT_SCAN-/vgg16.hdf5\n",
            "20/20 [==============================] - 14s 702ms/step - loss: 0.2650 - acc: 0.9364 - val_loss: 0.7865 - val_acc: 0.7361\n",
            "Epoch 24/100\n",
            "20/20 [==============================] - ETA: 0s - loss: 0.2566 - acc: 0.9511\n",
            "Epoch 24: val_loss improved from 0.78655 to 0.74931, saving model to ./chest_CT_SCAN-/vgg16.hdf5\n",
            "20/20 [==============================] - 14s 713ms/step - loss: 0.2566 - acc: 0.9511 - val_loss: 0.7493 - val_acc: 0.7917\n",
            "Epoch 25/100\n",
            "20/20 [==============================] - ETA: 0s - loss: 0.2599 - acc: 0.9429\n",
            "Epoch 25: val_loss improved from 0.74931 to 0.74846, saving model to ./chest_CT_SCAN-/vgg16.hdf5\n",
            "20/20 [==============================] - 14s 704ms/step - loss: 0.2599 - acc: 0.9429 - val_loss: 0.7485 - val_acc: 0.7917\n",
            "Epoch 26/100\n",
            "20/20 [==============================] - ETA: 0s - loss: 0.2453 - acc: 0.9511\n",
            "Epoch 26: val_loss improved from 0.74846 to 0.71700, saving model to ./chest_CT_SCAN-/vgg16.hdf5\n",
            "20/20 [==============================] - 14s 689ms/step - loss: 0.2453 - acc: 0.9511 - val_loss: 0.7170 - val_acc: 0.8056\n",
            "Epoch 27/100\n",
            "20/20 [==============================] - ETA: 0s - loss: 0.2461 - acc: 0.9462\n",
            "Epoch 27: val_loss improved from 0.71700 to 0.70920, saving model to ./chest_CT_SCAN-/vgg16.hdf5\n",
            "20/20 [==============================] - 14s 688ms/step - loss: 0.2461 - acc: 0.9462 - val_loss: 0.7092 - val_acc: 0.7500\n",
            "Epoch 28/100\n",
            "20/20 [==============================] - ETA: 0s - loss: 0.2408 - acc: 0.9494\n",
            "Epoch 28: val_loss improved from 0.70920 to 0.70519, saving model to ./chest_CT_SCAN-/vgg16.hdf5\n",
            "20/20 [==============================] - 14s 694ms/step - loss: 0.2408 - acc: 0.9494 - val_loss: 0.7052 - val_acc: 0.7917\n",
            "Epoch 29/100\n",
            "20/20 [==============================] - ETA: 0s - loss: 0.2301 - acc: 0.9576\n",
            "Epoch 29: val_loss improved from 0.70519 to 0.67909, saving model to ./chest_CT_SCAN-/vgg16.hdf5\n",
            "20/20 [==============================] - 14s 690ms/step - loss: 0.2301 - acc: 0.9576 - val_loss: 0.6791 - val_acc: 0.7917\n",
            "Epoch 30/100\n",
            "20/20 [==============================] - ETA: 0s - loss: 0.2273 - acc: 0.9527\n",
            "Epoch 30: val_loss improved from 0.67909 to 0.65874, saving model to ./chest_CT_SCAN-/vgg16.hdf5\n",
            "20/20 [==============================] - 15s 754ms/step - loss: 0.2273 - acc: 0.9527 - val_loss: 0.6587 - val_acc: 0.8056\n",
            "Epoch 31/100\n",
            "20/20 [==============================] - ETA: 0s - loss: 0.2257 - acc: 0.9576\n",
            "Epoch 31: val_loss did not improve from 0.65874\n",
            "20/20 [==============================] - 14s 695ms/step - loss: 0.2257 - acc: 0.9576 - val_loss: 0.6591 - val_acc: 0.7778\n",
            "Epoch 32/100\n",
            "20/20 [==============================] - ETA: 0s - loss: 0.2155 - acc: 0.9625\n",
            "Epoch 32: val_loss did not improve from 0.65874\n",
            "20/20 [==============================] - 14s 688ms/step - loss: 0.2155 - acc: 0.9625 - val_loss: 0.6591 - val_acc: 0.7917\n",
            "Epoch 33/100\n",
            "20/20 [==============================] - ETA: 0s - loss: 0.2095 - acc: 0.9511\n",
            "Epoch 33: val_loss improved from 0.65874 to 0.63871, saving model to ./chest_CT_SCAN-/vgg16.hdf5\n",
            "20/20 [==============================] - 15s 726ms/step - loss: 0.2095 - acc: 0.9511 - val_loss: 0.6387 - val_acc: 0.8056\n",
            "Epoch 34/100\n",
            "20/20 [==============================] - ETA: 0s - loss: 0.2265 - acc: 0.9478\n",
            "Epoch 34: val_loss improved from 0.63871 to 0.63014, saving model to ./chest_CT_SCAN-/vgg16.hdf5\n",
            "20/20 [==============================] - 14s 696ms/step - loss: 0.2265 - acc: 0.9478 - val_loss: 0.6301 - val_acc: 0.8333\n",
            "Epoch 35/100\n",
            "20/20 [==============================] - ETA: 0s - loss: 0.1984 - acc: 0.9560\n",
            "Epoch 35: val_loss improved from 0.63014 to 0.59584, saving model to ./chest_CT_SCAN-/vgg16.hdf5\n",
            "20/20 [==============================] - 14s 728ms/step - loss: 0.1984 - acc: 0.9560 - val_loss: 0.5958 - val_acc: 0.8472\n",
            "Epoch 36/100\n",
            "20/20 [==============================] - ETA: 0s - loss: 0.2047 - acc: 0.9527\n",
            "Epoch 36: val_loss did not improve from 0.59584\n",
            "20/20 [==============================] - 14s 691ms/step - loss: 0.2047 - acc: 0.9527 - val_loss: 0.6077 - val_acc: 0.8333\n",
            "Epoch 37/100\n",
            "20/20 [==============================] - ETA: 0s - loss: 0.1874 - acc: 0.9674\n",
            "Epoch 37: val_loss did not improve from 0.59584\n",
            "20/20 [==============================] - 14s 684ms/step - loss: 0.1874 - acc: 0.9674 - val_loss: 0.6221 - val_acc: 0.8194\n",
            "Epoch 38/100\n",
            "20/20 [==============================] - ETA: 0s - loss: 0.1958 - acc: 0.9608\n",
            "Epoch 38: val_loss did not improve from 0.59584\n",
            "20/20 [==============================] - 14s 692ms/step - loss: 0.1958 - acc: 0.9608 - val_loss: 0.6042 - val_acc: 0.8333\n",
            "Epoch 39/100\n",
            "20/20 [==============================] - ETA: 0s - loss: 0.1803 - acc: 0.9641\n",
            "Epoch 39: val_loss did not improve from 0.59584\n",
            "20/20 [==============================] - 15s 741ms/step - loss: 0.1803 - acc: 0.9641 - val_loss: 0.6100 - val_acc: 0.8194\n",
            "Epoch 40/100\n",
            "20/20 [==============================] - ETA: 0s - loss: 0.1807 - acc: 0.9657\n",
            "Epoch 40: val_loss did not improve from 0.59584\n",
            "20/20 [==============================] - 14s 680ms/step - loss: 0.1807 - acc: 0.9657 - val_loss: 0.6017 - val_acc: 0.8333\n",
            "Epoch 41/100\n",
            "20/20 [==============================] - ETA: 0s - loss: 0.1746 - acc: 0.9608\n",
            "Epoch 41: val_loss did not improve from 0.59584\n",
            "20/20 [==============================] - 14s 696ms/step - loss: 0.1746 - acc: 0.9608 - val_loss: 0.6117 - val_acc: 0.8333\n",
            "Epoch 42/100\n",
            "20/20 [==============================] - ETA: 0s - loss: 0.1668 - acc: 0.9739\n",
            "Epoch 42: val_loss did not improve from 0.59584\n",
            "20/20 [==============================] - 14s 692ms/step - loss: 0.1668 - acc: 0.9739 - val_loss: 0.5981 - val_acc: 0.8472\n",
            "Epoch 43/100\n",
            "20/20 [==============================] - ETA: 0s - loss: 0.1658 - acc: 0.9723\n",
            "Epoch 43: val_loss did not improve from 0.59584\n",
            "20/20 [==============================] - 15s 721ms/step - loss: 0.1658 - acc: 0.9723 - val_loss: 0.6564 - val_acc: 0.8194\n",
            "Epoch 44/100\n",
            "20/20 [==============================] - ETA: 0s - loss: 0.1772 - acc: 0.9625\n",
            "Epoch 44: val_loss did not improve from 0.59584\n",
            "20/20 [==============================] - 14s 689ms/step - loss: 0.1772 - acc: 0.9625 - val_loss: 0.5995 - val_acc: 0.8194\n",
            "Epoch 45/100\n",
            "20/20 [==============================] - ETA: 0s - loss: 0.1582 - acc: 0.9690\n",
            "Epoch 45: val_loss did not improve from 0.59584\n",
            "20/20 [==============================] - 14s 704ms/step - loss: 0.1582 - acc: 0.9690 - val_loss: 0.5990 - val_acc: 0.8056\n",
            "Epoch 46/100\n",
            "20/20 [==============================] - ETA: 0s - loss: 0.1673 - acc: 0.9674\n",
            "Epoch 46: val_loss improved from 0.59584 to 0.58980, saving model to ./chest_CT_SCAN-/vgg16.hdf5\n",
            "20/20 [==============================] - 14s 720ms/step - loss: 0.1673 - acc: 0.9674 - val_loss: 0.5898 - val_acc: 0.8333\n",
            "Epoch 47/100\n",
            "20/20 [==============================] - ETA: 0s - loss: 0.1552 - acc: 0.9706\n",
            "Epoch 47: val_loss did not improve from 0.58980\n",
            "20/20 [==============================] - 14s 683ms/step - loss: 0.1552 - acc: 0.9706 - val_loss: 0.6136 - val_acc: 0.8194\n",
            "Epoch 48/100\n",
            "20/20 [==============================] - ETA: 0s - loss: 0.1582 - acc: 0.9592\n",
            "Epoch 48: val_loss improved from 0.58980 to 0.58911, saving model to ./chest_CT_SCAN-/vgg16.hdf5\n",
            "20/20 [==============================] - 14s 682ms/step - loss: 0.1582 - acc: 0.9592 - val_loss: 0.5891 - val_acc: 0.8472\n",
            "Epoch 49/100\n",
            "20/20 [==============================] - ETA: 0s - loss: 0.1651 - acc: 0.9657\n",
            "Epoch 49: val_loss did not improve from 0.58911\n",
            "20/20 [==============================] - 14s 700ms/step - loss: 0.1651 - acc: 0.9657 - val_loss: 0.6300 - val_acc: 0.8194\n",
            "Epoch 50/100\n",
            "20/20 [==============================] - ETA: 0s - loss: 0.1423 - acc: 0.9772\n",
            "Epoch 50: val_loss did not improve from 0.58911\n",
            "20/20 [==============================] - 14s 686ms/step - loss: 0.1423 - acc: 0.9772 - val_loss: 0.6253 - val_acc: 0.8333\n",
            "Epoch 51/100\n",
            "20/20 [==============================] - ETA: 0s - loss: 0.1649 - acc: 0.9576\n",
            "Epoch 51: val_loss did not improve from 0.58911\n",
            "20/20 [==============================] - 14s 726ms/step - loss: 0.1649 - acc: 0.9576 - val_loss: 0.5931 - val_acc: 0.8472\n",
            "Epoch 52/100\n",
            "20/20 [==============================] - ETA: 0s - loss: 0.1335 - acc: 0.9804\n",
            "Epoch 52: val_loss improved from 0.58911 to 0.57339, saving model to ./chest_CT_SCAN-/vgg16.hdf5\n",
            "20/20 [==============================] - 14s 685ms/step - loss: 0.1335 - acc: 0.9804 - val_loss: 0.5734 - val_acc: 0.8472\n",
            "Epoch 53/100\n",
            "20/20 [==============================] - ETA: 0s - loss: 0.1481 - acc: 0.9625\n",
            "Epoch 53: val_loss did not improve from 0.57339\n",
            "20/20 [==============================] - 14s 691ms/step - loss: 0.1481 - acc: 0.9625 - val_loss: 0.5888 - val_acc: 0.8472\n",
            "Epoch 54/100\n",
            "20/20 [==============================] - ETA: 0s - loss: 0.1508 - acc: 0.9674\n",
            "Epoch 54: val_loss did not improve from 0.57339\n",
            "20/20 [==============================] - 14s 692ms/step - loss: 0.1508 - acc: 0.9674 - val_loss: 0.5980 - val_acc: 0.8472\n",
            "Epoch 55/100\n",
            "20/20 [==============================] - ETA: 0s - loss: 0.1265 - acc: 0.9837\n",
            "Epoch 55: val_loss did not improve from 0.57339\n",
            "20/20 [==============================] - 14s 699ms/step - loss: 0.1265 - acc: 0.9837 - val_loss: 0.6048 - val_acc: 0.8472\n",
            "Epoch 56/100\n",
            "20/20 [==============================] - ETA: 0s - loss: 0.1291 - acc: 0.9755\n",
            "Epoch 56: val_loss did not improve from 0.57339\n",
            "20/20 [==============================] - 14s 694ms/step - loss: 0.1291 - acc: 0.9755 - val_loss: 0.5779 - val_acc: 0.8333\n",
            "Epoch 57/100\n",
            "20/20 [==============================] - ETA: 0s - loss: 0.1288 - acc: 0.9804\n",
            "Epoch 57: val_loss did not improve from 0.57339\n",
            "20/20 [==============================] - 14s 683ms/step - loss: 0.1288 - acc: 0.9804 - val_loss: 0.6053 - val_acc: 0.8472\n",
            "Epoch 58/100\n",
            "20/20 [==============================] - ETA: 0s - loss: 0.1399 - acc: 0.9690\n",
            "Epoch 58: val_loss did not improve from 0.57339\n",
            "20/20 [==============================] - 14s 683ms/step - loss: 0.1399 - acc: 0.9690 - val_loss: 0.6103 - val_acc: 0.8333\n",
            "Epoch 59/100\n",
            "20/20 [==============================] - ETA: 0s - loss: 0.1247 - acc: 0.9755\n",
            "Epoch 59: val_loss did not improve from 0.57339\n",
            "20/20 [==============================] - 14s 700ms/step - loss: 0.1247 - acc: 0.9755 - val_loss: 0.5976 - val_acc: 0.8333\n",
            "Epoch 60/100\n",
            "20/20 [==============================] - ETA: 0s - loss: 0.1282 - acc: 0.9723\n",
            "Epoch 60: val_loss did not improve from 0.57339\n",
            "20/20 [==============================] - 14s 690ms/step - loss: 0.1282 - acc: 0.9723 - val_loss: 0.6059 - val_acc: 0.8472\n",
            "Epoch 61/100\n",
            "20/20 [==============================] - ETA: 0s - loss: 0.1272 - acc: 0.9788\n",
            "Epoch 61: val_loss did not improve from 0.57339\n",
            "20/20 [==============================] - 14s 688ms/step - loss: 0.1272 - acc: 0.9788 - val_loss: 0.5781 - val_acc: 0.8472\n",
            "Epoch 62/100\n",
            "20/20 [==============================] - ETA: 0s - loss: 0.1161 - acc: 0.9821\n",
            "Epoch 62: val_loss did not improve from 0.57339\n",
            "20/20 [==============================] - 14s 676ms/step - loss: 0.1161 - acc: 0.9821 - val_loss: 0.6073 - val_acc: 0.8472\n",
            "Epoch 63/100\n",
            "20/20 [==============================] - ETA: 0s - loss: 0.1175 - acc: 0.9837\n",
            "Epoch 63: val_loss did not improve from 0.57339\n",
            "20/20 [==============================] - 14s 678ms/step - loss: 0.1175 - acc: 0.9837 - val_loss: 0.6055 - val_acc: 0.8472\n",
            "Epoch 64/100\n",
            "20/20 [==============================] - ETA: 0s - loss: 0.1231 - acc: 0.9739\n",
            "Epoch 64: val_loss did not improve from 0.57339\n",
            "20/20 [==============================] - 14s 707ms/step - loss: 0.1231 - acc: 0.9739 - val_loss: 0.6097 - val_acc: 0.8472\n",
            "Epoch 65/100\n",
            "20/20 [==============================] - ETA: 0s - loss: 0.1175 - acc: 0.9804\n",
            "Epoch 65: val_loss did not improve from 0.57339\n",
            "20/20 [==============================] - 14s 679ms/step - loss: 0.1175 - acc: 0.9804 - val_loss: 0.5900 - val_acc: 0.8472\n",
            "Epoch 66/100\n",
            "20/20 [==============================] - ETA: 0s - loss: 0.1329 - acc: 0.9723\n",
            "Epoch 66: val_loss improved from 0.57339 to 0.56467, saving model to ./chest_CT_SCAN-/vgg16.hdf5\n",
            "20/20 [==============================] - 14s 707ms/step - loss: 0.1329 - acc: 0.9723 - val_loss: 0.5647 - val_acc: 0.8472\n",
            "Epoch 67/100\n",
            "20/20 [==============================] - ETA: 0s - loss: 0.1190 - acc: 0.9804\n",
            "Epoch 67: val_loss did not improve from 0.56467\n",
            "20/20 [==============================] - 14s 685ms/step - loss: 0.1190 - acc: 0.9804 - val_loss: 0.6068 - val_acc: 0.8472\n",
            "Epoch 68/100\n",
            "20/20 [==============================] - ETA: 0s - loss: 0.1084 - acc: 0.9804\n",
            "Epoch 68: val_loss did not improve from 0.56467\n",
            "20/20 [==============================] - 14s 698ms/step - loss: 0.1084 - acc: 0.9804 - val_loss: 0.6042 - val_acc: 0.8472\n",
            "Epoch 69/100\n",
            "20/20 [==============================] - ETA: 0s - loss: 0.1081 - acc: 0.9853\n",
            "Epoch 69: val_loss improved from 0.56467 to 0.56092, saving model to ./chest_CT_SCAN-/vgg16.hdf5\n",
            "20/20 [==============================] - 14s 711ms/step - loss: 0.1081 - acc: 0.9853 - val_loss: 0.5609 - val_acc: 0.8472\n",
            "Epoch 70/100\n",
            "20/20 [==============================] - ETA: 0s - loss: 0.0974 - acc: 0.9902\n",
            "Epoch 70: val_loss did not improve from 0.56092\n",
            "20/20 [==============================] - 14s 693ms/step - loss: 0.0974 - acc: 0.9902 - val_loss: 0.5802 - val_acc: 0.8472\n",
            "Epoch 71/100\n",
            "20/20 [==============================] - ETA: 0s - loss: 0.1113 - acc: 0.9821\n",
            "Epoch 71: val_loss did not improve from 0.56092\n",
            "20/20 [==============================] - 14s 681ms/step - loss: 0.1113 - acc: 0.9821 - val_loss: 0.5841 - val_acc: 0.8333\n",
            "Epoch 72/100\n",
            "20/20 [==============================] - ETA: 0s - loss: 0.1064 - acc: 0.9804\n",
            "Epoch 72: val_loss did not improve from 0.56092\n",
            "20/20 [==============================] - 14s 687ms/step - loss: 0.1064 - acc: 0.9804 - val_loss: 0.5636 - val_acc: 0.8472\n",
            "Epoch 73/100\n",
            "20/20 [==============================] - ETA: 0s - loss: 0.1130 - acc: 0.9772\n",
            "Epoch 73: val_loss did not improve from 0.56092\n",
            "20/20 [==============================] - 14s 680ms/step - loss: 0.1130 - acc: 0.9772 - val_loss: 0.6051 - val_acc: 0.8472\n",
            "Epoch 74/100\n",
            "20/20 [==============================] - ETA: 0s - loss: 0.1140 - acc: 0.9837\n",
            "Epoch 74: val_loss improved from 0.56092 to 0.55968, saving model to ./chest_CT_SCAN-/vgg16.hdf5\n",
            "20/20 [==============================] - 14s 696ms/step - loss: 0.1140 - acc: 0.9837 - val_loss: 0.5597 - val_acc: 0.8472\n",
            "Epoch 75/100\n",
            "20/20 [==============================] - ETA: 0s - loss: 0.1033 - acc: 0.9772\n",
            "Epoch 75: val_loss did not improve from 0.55968\n",
            "20/20 [==============================] - 14s 695ms/step - loss: 0.1033 - acc: 0.9772 - val_loss: 0.6055 - val_acc: 0.8472\n",
            "Epoch 76/100\n",
            "20/20 [==============================] - ETA: 0s - loss: 0.1073 - acc: 0.9804\n",
            "Epoch 76: val_loss did not improve from 0.55968\n",
            "20/20 [==============================] - 14s 697ms/step - loss: 0.1073 - acc: 0.9804 - val_loss: 0.5669 - val_acc: 0.8472\n",
            "Epoch 77/100\n",
            "20/20 [==============================] - ETA: 0s - loss: 0.0997 - acc: 0.9837\n",
            "Epoch 77: val_loss did not improve from 0.55968\n",
            "20/20 [==============================] - 14s 698ms/step - loss: 0.0997 - acc: 0.9837 - val_loss: 0.5621 - val_acc: 0.8472\n",
            "Epoch 78/100\n",
            "20/20 [==============================] - ETA: 0s - loss: 0.1044 - acc: 0.9837\n",
            "Epoch 78: val_loss did not improve from 0.55968\n",
            "20/20 [==============================] - 14s 702ms/step - loss: 0.1044 - acc: 0.9837 - val_loss: 0.5929 - val_acc: 0.8472\n",
            "Epoch 79/100\n",
            "20/20 [==============================] - ETA: 0s - loss: 0.0990 - acc: 0.9755\n",
            "Epoch 79: val_loss did not improve from 0.55968\n",
            "20/20 [==============================] - 14s 684ms/step - loss: 0.0990 - acc: 0.9755 - val_loss: 0.6109 - val_acc: 0.8333\n",
            "Epoch 80/100\n",
            "20/20 [==============================] - ETA: 0s - loss: 0.1018 - acc: 0.9804\n",
            "Epoch 80: val_loss did not improve from 0.55968\n",
            "20/20 [==============================] - 14s 687ms/step - loss: 0.1018 - acc: 0.9804 - val_loss: 0.5705 - val_acc: 0.8472\n",
            "Epoch 81/100\n",
            "20/20 [==============================] - ETA: 0s - loss: 0.1109 - acc: 0.9723\n",
            "Epoch 81: val_loss did not improve from 0.55968\n",
            "20/20 [==============================] - 14s 709ms/step - loss: 0.1109 - acc: 0.9723 - val_loss: 0.5707 - val_acc: 0.8472\n",
            "Epoch 82/100\n",
            "20/20 [==============================] - ETA: 0s - loss: 0.0882 - acc: 0.9869\n",
            "Epoch 82: val_loss did not improve from 0.55968\n",
            "20/20 [==============================] - 14s 698ms/step - loss: 0.0882 - acc: 0.9869 - val_loss: 0.5904 - val_acc: 0.8472\n",
            "Epoch 83/100\n",
            "20/20 [==============================] - ETA: 0s - loss: 0.0958 - acc: 0.9853\n",
            "Epoch 83: val_loss improved from 0.55968 to 0.55556, saving model to ./chest_CT_SCAN-/vgg16.hdf5\n",
            "20/20 [==============================] - 14s 699ms/step - loss: 0.0958 - acc: 0.9853 - val_loss: 0.5556 - val_acc: 0.8472\n",
            "Epoch 84/100\n",
            "20/20 [==============================] - ETA: 0s - loss: 0.0919 - acc: 0.9886\n",
            "Epoch 84: val_loss did not improve from 0.55556\n",
            "20/20 [==============================] - 14s 702ms/step - loss: 0.0919 - acc: 0.9886 - val_loss: 0.5623 - val_acc: 0.8611\n",
            "Epoch 85/100\n",
            "20/20 [==============================] - ETA: 0s - loss: 0.0916 - acc: 0.9821\n",
            "Epoch 85: val_loss did not improve from 0.55556\n",
            "20/20 [==============================] - 14s 682ms/step - loss: 0.0916 - acc: 0.9821 - val_loss: 0.5703 - val_acc: 0.8472\n",
            "Epoch 86/100\n",
            "20/20 [==============================] - ETA: 0s - loss: 0.0947 - acc: 0.9804\n",
            "Epoch 86: val_loss improved from 0.55556 to 0.55527, saving model to ./chest_CT_SCAN-/vgg16.hdf5\n",
            "20/20 [==============================] - 14s 693ms/step - loss: 0.0947 - acc: 0.9804 - val_loss: 0.5553 - val_acc: 0.8472\n",
            "Epoch 87/100\n",
            "20/20 [==============================] - ETA: 0s - loss: 0.0928 - acc: 0.9821\n",
            "Epoch 87: val_loss improved from 0.55527 to 0.55307, saving model to ./chest_CT_SCAN-/vgg16.hdf5\n",
            "20/20 [==============================] - 14s 701ms/step - loss: 0.0928 - acc: 0.9821 - val_loss: 0.5531 - val_acc: 0.8472\n",
            "Epoch 88/100\n",
            "20/20 [==============================] - ETA: 0s - loss: 0.0824 - acc: 0.9902\n",
            "Epoch 88: val_loss did not improve from 0.55307\n",
            "20/20 [==============================] - 14s 687ms/step - loss: 0.0824 - acc: 0.9902 - val_loss: 0.6216 - val_acc: 0.8472\n",
            "Epoch 89/100\n",
            "20/20 [==============================] - ETA: 0s - loss: 0.0903 - acc: 0.9837\n",
            "Epoch 89: val_loss did not improve from 0.55307\n",
            "20/20 [==============================] - 14s 700ms/step - loss: 0.0903 - acc: 0.9837 - val_loss: 0.5626 - val_acc: 0.8472\n",
            "Epoch 90/100\n",
            "20/20 [==============================] - ETA: 0s - loss: 0.0933 - acc: 0.9837\n",
            "Epoch 90: val_loss did not improve from 0.55307\n",
            "20/20 [==============================] - 14s 703ms/step - loss: 0.0933 - acc: 0.9837 - val_loss: 0.5793 - val_acc: 0.8472\n",
            "Epoch 91/100\n",
            "20/20 [==============================] - ETA: 0s - loss: 0.0868 - acc: 0.9821\n",
            "Epoch 91: val_loss did not improve from 0.55307\n",
            "20/20 [==============================] - 15s 721ms/step - loss: 0.0868 - acc: 0.9821 - val_loss: 0.5611 - val_acc: 0.8611\n",
            "Epoch 92/100\n",
            "20/20 [==============================] - ETA: 0s - loss: 0.0857 - acc: 0.9886\n",
            "Epoch 92: val_loss improved from 0.55307 to 0.53613, saving model to ./chest_CT_SCAN-/vgg16.hdf5\n",
            "20/20 [==============================] - 14s 707ms/step - loss: 0.0857 - acc: 0.9886 - val_loss: 0.5361 - val_acc: 0.8472\n",
            "Epoch 93/100\n",
            "20/20 [==============================] - ETA: 0s - loss: 0.0825 - acc: 0.9837\n",
            "Epoch 93: val_loss did not improve from 0.53613\n",
            "20/20 [==============================] - 14s 694ms/step - loss: 0.0825 - acc: 0.9837 - val_loss: 0.5704 - val_acc: 0.8472\n",
            "Epoch 94/100\n",
            "20/20 [==============================] - ETA: 0s - loss: 0.0889 - acc: 0.9837\n",
            "Epoch 94: val_loss did not improve from 0.53613\n",
            "20/20 [==============================] - 14s 693ms/step - loss: 0.0889 - acc: 0.9837 - val_loss: 0.5445 - val_acc: 0.8472\n",
            "Epoch 95/100\n",
            "20/20 [==============================] - ETA: 0s - loss: 0.0733 - acc: 0.9886\n",
            "Epoch 95: val_loss did not improve from 0.53613\n",
            "20/20 [==============================] - 14s 688ms/step - loss: 0.0733 - acc: 0.9886 - val_loss: 0.5628 - val_acc: 0.8472\n",
            "Epoch 96/100\n",
            "20/20 [==============================] - ETA: 0s - loss: 0.0825 - acc: 0.9886\n",
            "Epoch 96: val_loss did not improve from 0.53613\n",
            "20/20 [==============================] - 14s 676ms/step - loss: 0.0825 - acc: 0.9886 - val_loss: 0.5867 - val_acc: 0.8611\n",
            "Epoch 97/100\n",
            "20/20 [==============================] - ETA: 0s - loss: 0.0695 - acc: 0.9951\n",
            "Epoch 97: val_loss did not improve from 0.53613\n",
            "20/20 [==============================] - 14s 699ms/step - loss: 0.0695 - acc: 0.9951 - val_loss: 0.6258 - val_acc: 0.8611\n",
            "Epoch 98/100\n",
            "20/20 [==============================] - ETA: 0s - loss: 0.0765 - acc: 0.9902\n",
            "Epoch 98: val_loss did not improve from 0.53613\n",
            "20/20 [==============================] - 15s 763ms/step - loss: 0.0765 - acc: 0.9902 - val_loss: 0.6023 - val_acc: 0.8472\n",
            "Epoch 99/100\n",
            "20/20 [==============================] - ETA: 0s - loss: 0.0748 - acc: 0.9869\n",
            "Epoch 99: val_loss did not improve from 0.53613\n",
            "20/20 [==============================] - 14s 704ms/step - loss: 0.0748 - acc: 0.9869 - val_loss: 0.5856 - val_acc: 0.8611\n",
            "Epoch 100/100\n",
            "20/20 [==============================] - ETA: 0s - loss: 0.0756 - acc: 0.9886\n",
            "Epoch 100: val_loss did not improve from 0.53613\n",
            "20/20 [==============================] - 14s 689ms/step - loss: 0.0756 - acc: 0.9886 - val_loss: 0.5655 - val_acc: 0.8611\n"
          ]
        }
      ],
      "source": [
        "history_vgg = model.fit(train_generator,\n",
        "                    steps_per_epoch = 20,\n",
        "                    epochs = 100,\n",
        "                    verbose = 1,\n",
        "                    validation_data = valid_generator,\n",
        "                    callbacks = [checkpointer, early_stopping])"
      ]
    },
    {
      "cell_type": "code",
      "execution_count": null,
      "metadata": {
        "colab": {
          "base_uri": "https://localhost:8080/",
          "height": 449
        },
        "id": "k7KMvtI2l7aQ",
        "outputId": "7c7f652d-4633-4503-d959-9155111bc3a3"
      },
      "outputs": [
        {
          "ename": "NameError",
          "evalue": "name 'history_vgg' is not defined",
          "output_type": "error",
          "traceback": [
            "\u001b[1;31m---------------------------------------------------------------------------\u001b[0m",
            "\u001b[1;31mNameError\u001b[0m                                 Traceback (most recent call last)",
            "Cell \u001b[1;32mIn[9], line 1\u001b[0m\n\u001b[1;32m----> 1\u001b[0m plt\u001b[39m.\u001b[39mplot(history_vgg\u001b[39m.\u001b[39mhistory[\u001b[39m'\u001b[39m\u001b[39macc\u001b[39m\u001b[39m'\u001b[39m], label \u001b[39m=\u001b[39m \u001b[39m'\u001b[39m\u001b[39mtrain\u001b[39m\u001b[39m'\u001b[39m,)\n\u001b[0;32m      2\u001b[0m plt\u001b[39m.\u001b[39mplot(history_vgg\u001b[39m.\u001b[39mhistory[\u001b[39m'\u001b[39m\u001b[39mval_acc\u001b[39m\u001b[39m'\u001b[39m], label \u001b[39m=\u001b[39m \u001b[39m'\u001b[39m\u001b[39mval\u001b[39m\u001b[39m'\u001b[39m)\n\u001b[0;32m      4\u001b[0m plt\u001b[39m.\u001b[39mlegend(loc \u001b[39m=\u001b[39m \u001b[39m'\u001b[39m\u001b[39mright\u001b[39m\u001b[39m'\u001b[39m)\n",
            "\u001b[1;31mNameError\u001b[0m: name 'history_vgg' is not defined"
          ]
        }
      ],
      "source": [
        "plt.plot(history_vgg.history['acc'], label = 'train',)\n",
        "plt.plot(history_vgg.history['val_acc'], label = 'val')\n",
        "\n",
        "plt.legend(loc = 'right')\n",
        "plt.xlabel('epochs')\n",
        "plt.ylabel('accuracy')\n",
        "plt.show()"
      ]
    },
    {
      "cell_type": "code",
      "execution_count": null,
      "metadata": {
        "colab": {
          "base_uri": "https://localhost:8080/"
        },
        "id": "YcuGowOhekO_",
        "outputId": "389bdaa8-540a-40f3-94f9-e1abc7cc89e4"
      },
      "outputs": [
        {
          "name": "stdout",
          "output_type": "stream",
          "text": [
            "10/10 [==============================] - 20s 2s/step - loss: 0.4604 - acc: 0.8381\n"
          ]
        }
      ],
      "source": [
        "result = model.evaluate(test_generator)"
      ]
    }
  ],
  "metadata": {
    "accelerator": "GPU",
    "colab": {
      "provenance": []
    },
    "gpuClass": "standard",
    "kernelspec": {
      "display_name": "Python 3",
      "language": "python",
      "name": "python3"
    },
    "language_info": {
      "codemirror_mode": {
        "name": "ipython",
        "version": 3
      },
      "file_extension": ".py",
      "mimetype": "text/x-python",
      "name": "python",
      "nbconvert_exporter": "python",
      "pygments_lexer": "ipython3",
      "version": "3.10.6"
    }
  },
  "nbformat": 4,
  "nbformat_minor": 0
}
